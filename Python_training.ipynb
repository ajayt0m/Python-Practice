{
  "nbformat": 4,
  "nbformat_minor": 0,
  "metadata": {
    "colab": {
      "name": "Python training.ipynb",
      "provenance": [],
      "collapsed_sections": [],
      "authorship_tag": "ABX9TyPMefRXgHLw4pPBtzBJW9KJ",
      "include_colab_link": true
    },
    "kernelspec": {
      "name": "python3",
      "display_name": "Python 3"
    }
  },
  "cells": [
    {
      "cell_type": "markdown",
      "metadata": {
        "id": "view-in-github",
        "colab_type": "text"
      },
      "source": [
        "<a href=\"https://colab.research.google.com/github/ajayt0m/Python-Practice/blob/main/Python_training.ipynb\" target=\"_parent\"><img src=\"https://colab.research.google.com/assets/colab-badge.svg\" alt=\"Open In Colab\"/></a>"
      ]
    },
    {
      "cell_type": "markdown",
      "metadata": {
        "id": "VDJXGYHyxdBa"
      },
      "source": [
        "# **Python Training programs**\n",
        "\n",
        "---\n",
        "\n",
        "\n",
        "\n"
      ]
    },
    {
      "cell_type": "markdown",
      "metadata": {
        "id": "1lAjUSFZwNwc"
      },
      "source": [
        "# **Python program to find greatest of two numbers**"
      ]
    },
    {
      "cell_type": "code",
      "metadata": {
        "id": "2DsuQC5lhUHE"
      },
      "source": [
        "#haiiiiiiiiiiiiiiii\n",
        "# Python program to find greatest of two numbers\n",
        "number1 = input(\"Input the number\")\n",
        "number2 = input(\"Input the second number\")\n",
        "\n",
        "def maximum(a, b) :\n",
        "    if (a > b):\n",
        "        return a\n",
        "    else:\n",
        "        return b\n",
        "    \n",
        "max = maximum(number1, number2)\n",
        "print(\"The maximum is {0}\" .format(max))\n"
      ],
      "execution_count": null,
      "outputs": []
    },
    {
      "cell_type": "markdown",
      "metadata": {
        "id": "81-u8ANgwhqd"
      },
      "source": [
        "# **Python program to find greatest of 3 numbers**\n",
        "\n"
      ]
    },
    {
      "cell_type": "code",
      "metadata": {
        "id": "qmjCXDQmv9F0"
      },
      "source": [
        "#Python program to find greatest of 3 numbers\n",
        "number1 = input(\"Input the first number \")\n",
        "number2 = input(\"Input the second number\")\n",
        "number3 = input(\"Input the third number\")\n",
        "\n",
        "def maxx(a, b, c):\n",
        "    if (a > b and a > c):\n",
        "        return a\n",
        "    elif (b > a and b > c):\n",
        "        return b\n",
        "    else:\n",
        "        return c\n",
        "maximum = maxx(number1, number2, number3)\n",
        "print(\"The maximum is {0}\" .format(maximum))\n",
        "        "
      ],
      "execution_count": null,
      "outputs": []
    },
    {
      "cell_type": "markdown",
      "metadata": {
        "id": "6t-6P69Qwh2h"
      },
      "source": [
        "# **Python program to print the factorial**"
      ]
    },
    {
      "cell_type": "code",
      "metadata": {
        "id": "v6F7lchvv9Vn"
      },
      "source": [
        "#Python program to print the factorial\n",
        "number1 = int(input(\"Input the number to find the factorial \"))\n",
        "\n",
        "def factorial(a):\n",
        "    fact = 1\n",
        "    while (a > 0):\n",
        "        fact = fact * a\n",
        "        a = a - 1\n",
        "    return fact\n",
        "\n",
        "facto = factorial(number1)\n",
        "print(facto)"
      ],
      "execution_count": null,
      "outputs": []
    },
    {
      "cell_type": "markdown",
      "metadata": {
        "id": "umoKTea8wiLZ"
      },
      "source": [
        "# **Python program to calculate simple interest**\n"
      ]
    },
    {
      "cell_type": "code",
      "metadata": {
        "id": "IcKZUmkSv9h4"
      },
      "source": [
        "#Python program to calculate simple interest\n",
        "principle = int(input(\"Principle :\"))\n",
        "time = int(input(\"Time:\"))\n",
        "rate = int(input(\"Rate:\"))\n",
        "def si(a, b ,c):\n",
        "    value = (a*b*c)/100\n",
        "    return value\n",
        "print(si(principle, time, rate))"
      ],
      "execution_count": null,
      "outputs": []
    },
    {
      "cell_type": "markdown",
      "metadata": {
        "id": "HuJ3vMHBwiWx"
      },
      "source": [
        "# **Python program to calculate compound interest**"
      ]
    },
    {
      "cell_type": "code",
      "metadata": {
        "id": "bgjD_EnCv9zN"
      },
      "source": [
        "#Python program to calculate compound interest\n",
        "principle = int(input(\"Principle :\"))\n",
        "time = int(input(\"Time:\"))\n",
        "rate = float(input(\"Rate:\"))\n",
        "def ci(a, b ,c):\n",
        "    amount = a*(pow(1+(c/100), b))\n",
        "    value = amount - a\n",
        "    return value\n",
        "print(ci(principle, time, rate))"
      ],
      "execution_count": null,
      "outputs": []
    },
    {
      "cell_type": "markdown",
      "metadata": {
        "id": "xNyRr_huxMjD"
      },
      "source": [
        "# **Python program to check armstrong number**"
      ]
    },
    {
      "cell_type": "code",
      "metadata": {
        "id": "p2HsKIgqf1iy",
        "outputId": "18b83eb9-7f75-4368-b171-7b018a67d65f",
        "colab": {
          "base_uri": "https://localhost:8080/"
        }
      },
      "source": [
        "#Python program to check armstrong number\n",
        "number = int(input(\"Enter a number\"))\n",
        " \n",
        "def multiply(b):\n",
        "  i = 0\n",
        "  while (b > 0):\n",
        "    i = i + 1\n",
        "    b = b // 10\n",
        "  return i \n",
        "\n",
        "def armstrong(a,n):\n",
        "    totalsum = 0  \n",
        "    while (a > 0):\n",
        "        digit = a % 10;\n",
        "        digitsum = pow(digit, n)\n",
        "        totalsum = totalsum + digitsum\n",
        "        a = a//10\n",
        "    return totalsum\n",
        "new = armstrong(number, multiply(number))\n",
        "if (new == number):\n",
        "  print(\"{0} is an armstrong number\" .format(number))\n",
        "else:\n",
        "  print(\"{0} is not an armstrong number\" .format(number))\n"
      ],
      "execution_count": null,
      "outputs": [
        {
          "output_type": "stream",
          "text": [
            "Enter a number371\n",
            "371 is an armstrong number\n"
          ],
          "name": "stdout"
        }
      ]
    },
    {
      "cell_type": "markdown",
      "metadata": {
        "id": "i5hFvkRe022Z"
      },
      "source": [
        "# **Python program to print all Prime numbers in an Interval** "
      ]
    },
    {
      "cell_type": "code",
      "metadata": {
        "id": "rIXOJwzn06jd"
      },
      "source": [
        "#Prime numbers in an interval\n",
        "lowerlimit = int(input(\"Input the lower limit:\"))\n",
        "upperlimit = int(input(\"Input the upper limit:\"))\n",
        "\n",
        "def prime(a):\n",
        "  if (a== 0 or a == 1):\n",
        "    return -1\n",
        "  elif (a == 2):\n",
        "    return 1\n",
        "  else:\n",
        "    check = 0\n",
        "    for i in range (2,a):\n",
        "      if ((a % i) == 0):\n",
        "        check = 1\n",
        "    if(check == 0):\n",
        "      return 1\n",
        "\n",
        "for j in range (lowerlimit,upperlimit+1):\n",
        "  if(prime(j) == 1):\n",
        "    print(j)\n",
        "  \n"
      ],
      "execution_count": null,
      "outputs": []
    },
    {
      "cell_type": "markdown",
      "metadata": {
        "id": "MSdSq2u1Fgsa"
      },
      "source": [
        "# **Python program to print Fibonacci series** "
      ]
    },
    {
      "cell_type": "code",
      "metadata": {
        "id": "7OqB7hmN89pQ",
        "outputId": "21523b24-5015-4f57-acfc-9055452000e0",
        "colab": {
          "base_uri": "https://localhost:8080/"
        }
      },
      "source": [
        "def fibonacci(a):\n",
        "  if (a <= 0):\n",
        "    print(\"Invalid entry\")\n",
        "  elif(a == 1):\n",
        "    return 0\n",
        "  elif(a == 2):\n",
        "    return 1\n",
        "  else:\n",
        "    return fibonacci(a-1) + fibonacci(a-2)\n",
        "\n",
        "n = int(input(\"Enter the upper limit\"))\n",
        "for i in range(1,n):\n",
        "  print(fibonacci(i))"
      ],
      "execution_count": null,
      "outputs": [
        {
          "output_type": "stream",
          "text": [
            "Enter the upper limit10\n",
            "0\n",
            "1\n",
            "1\n",
            "2\n",
            "3\n",
            "5\n",
            "8\n",
            "13\n",
            "21\n"
          ],
          "name": "stdout"
        }
      ]
    },
    {
      "cell_type": "markdown",
      "metadata": {
        "id": "V1YtJGbaVDdI"
      },
      "source": [
        "# **Display array** "
      ]
    },
    {
      "cell_type": "code",
      "metadata": {
        "id": "FyOWsFzVVJ-2"
      },
      "source": [
        "arr = []\n",
        "l = int(input(\"Input the size of array\"))\n",
        "for i in range(0,l):\n",
        "  arr.append(i)\n",
        "  print(arr[i])"
      ],
      "execution_count": null,
      "outputs": []
    },
    {
      "cell_type": "markdown",
      "metadata": {
        "id": "LJwmgGKqYaee"
      },
      "source": [
        "# **Check Fibonacci with array** "
      ]
    },
    {
      "cell_type": "code",
      "metadata": {
        "id": "pDzmwQhnazDH",
        "outputId": "ed8ea5b2-8767-458d-f22f-1818c2c1c7f7",
        "colab": {
          "base_uri": "https://localhost:8080/"
        }
      },
      "source": [
        "def fibonacci(n):\n",
        "  if (n <= 0):\n",
        "    print(\"Invalid Entry\")\n",
        "  elif (n == 1):\n",
        "    return 0\n",
        "  elif (n == 2):\n",
        "    return 1\n",
        "  else:\n",
        "    return fibonacci(n-1) + fibonacci(n-2)\n",
        "\n",
        "l = int(input(\"Enter the size\"))\n",
        "arr = [] \n",
        "for i in range (1,l):\n",
        "  arr.append(fibonacci(i))\n",
        "print(arr)\n",
        "length = len(arr)\n",
        "print(\"Size of array = {0}\" .format(length))\n",
        "check = int(input(\"Enter number to be checked:\"))\n",
        "if (check in arr):\n",
        "    print(\"Element is in fibonacci series\")\n",
        "elif (check not in arr):\n",
        "  print(\"Element doesn't exist\")"
      ],
      "execution_count": null,
      "outputs": [
        {
          "output_type": "stream",
          "text": [
            "Enter the size20\n",
            "[0, 1, 1, 2, 3, 5, 8, 13, 21, 34, 55, 89, 144, 233, 377, 610, 987, 1597, 2584]\n",
            "Size of array = 19\n",
            "Enter number to be checked:89\n",
            "Element is in fibonacci series\n"
          ],
          "name": "stdout"
        }
      ]
    },
    {
      "cell_type": "markdown",
      "metadata": {
        "id": "GgQZySVIRvKg"
      },
      "source": [
        "# **Sort using inbuilt function - Strings** "
      ]
    },
    {
      "cell_type": "code",
      "metadata": {
        "id": "p3wtl_tpR449",
        "outputId": "5a4e7ee0-ae27-4113-ee84-718fe4445e7b",
        "colab": {
          "base_uri": "https://localhost:8080/"
        }
      },
      "source": [
        "cars = []\n",
        "for i in range(0,5):\n",
        "  value = input(\"Enter car\")\n",
        "  cars.append(value)\n",
        "print(cars)\n",
        "cars.sort()\n",
        "print(cars)"
      ],
      "execution_count": null,
      "outputs": [
        {
          "output_type": "stream",
          "text": [
            "Enter carmaruti\n",
            "Enter carhyundai\n",
            "Enter caralbo\n",
            "Enter carlamborghini\n",
            "Enter carbugati\n",
            "['maruti', 'hyundai', 'albo', 'lamborghini', 'bugati']\n",
            "['albo', 'bugati', 'hyundai', 'lamborghini', 'maruti']\n"
          ],
          "name": "stdout"
        }
      ]
    },
    {
      "cell_type": "markdown",
      "metadata": {
        "id": "GxjsWNdXTdaJ"
      },
      "source": [
        "# **Sort using inbuilt function - Numbers** "
      ]
    },
    {
      "cell_type": "code",
      "metadata": {
        "id": "xOc1ssumTmRo",
        "outputId": "63b40151-defb-4263-b21e-0e71cd2779a8",
        "colab": {
          "base_uri": "https://localhost:8080/"
        }
      },
      "source": [
        "numbers = []\n",
        "for i in range(0,5):\n",
        "  value = int(input(\"Enter a number: \"))\n",
        "  numbers.append(value)\n",
        "print(numbers) \n",
        "numbers.sort()\n",
        "print(numbers)"
      ],
      "execution_count": null,
      "outputs": [
        {
          "output_type": "stream",
          "text": [
            "Enter a number: 17\n",
            "Enter a number: 2\n",
            "Enter a number: 98\n",
            "Enter a number: 16\n",
            "Enter a number: 8\n",
            "[17, 2, 98, 16, 8]\n",
            "[2, 8, 16, 17, 98]\n"
          ],
          "name": "stdout"
        }
      ]
    },
    {
      "cell_type": "markdown",
      "metadata": {
        "id": "NddZ-79cWwmZ"
      },
      "source": [
        "# **Sorting - numbers** "
      ]
    },
    {
      "cell_type": "code",
      "metadata": {
        "id": "QBTFPdrjW_zf",
        "outputId": "de4b179a-0c45-4eb2-bffc-8c94525fe2ed",
        "colab": {
          "base_uri": "https://localhost:8080/"
        }
      },
      "source": [
        "import random\n",
        "arr = []\n",
        "for i in range(0,10):\n",
        "  n = random.randint(0,20)\n",
        "  arr.append(n)\n",
        "print(arr)\n",
        "\n",
        "def sort(array):\n",
        "  for i in range(0,len(array)):\n",
        "    for j in range(0, len(array)):\n",
        "      if(array[i] < array[j]):\n",
        "        temp = array[i]\n",
        "        array[i] = array[j]\n",
        "        array[j] = temp\n",
        "\n",
        "sort(arr)\n",
        "print(arr)\n"
      ],
      "execution_count": null,
      "outputs": [
        {
          "output_type": "stream",
          "text": [
            "[1, 14, 12, 10, 16, 13, 11, 7, 10, 15]\n",
            "[1, 7, 10, 10, 11, 12, 13, 14, 15, 16]\n"
          ],
          "name": "stdout"
        }
      ]
    },
    {
      "cell_type": "markdown",
      "metadata": {
        "id": "Qk9r22WrlR0E"
      },
      "source": [
        "# **Tuples** "
      ]
    },
    {
      "cell_type": "code",
      "metadata": {
        "id": "QL91s1txlVzJ",
        "outputId": "8de44200-577b-4d85-c90e-ebcd4e4f4c33",
        "colab": {
          "base_uri": "https://localhost:8080/"
        }
      },
      "source": [
        "tuple = (1,2,3,4,5)\n",
        "print(tuple[-4:-1])"
      ],
      "execution_count": null,
      "outputs": [
        {
          "output_type": "stream",
          "text": [
            "(2, 3, 4)\n"
          ],
          "name": "stdout"
        }
      ]
    },
    {
      "cell_type": "markdown",
      "metadata": {
        "id": "G0ewnVJuqDHD"
      },
      "source": [
        "# **Dictionaries** "
      ]
    },
    {
      "cell_type": "code",
      "metadata": {
        "id": "NsS_vMlEqIU3",
        "outputId": "22d44c80-e746-4a04-97df-c828fa02473a",
        "colab": {
          "base_uri": "https://localhost:8080/"
        }
      },
      "source": [
        "thisdict = {}\n",
        "for i in range(0,4):\n",
        "  key = input(\"Enter the key\")\n",
        "  value = input(\"Enter the value\")\n",
        "  thisdict[key] = value \n",
        "print(thisdict)"
      ],
      "execution_count": null,
      "outputs": [
        {
          "output_type": "stream",
          "text": [
            "Enter the keyhai\n",
            "Enter the valueajay\n",
            "Enter the keyhello\n",
            "Enter the valueakshay\n",
            "Enter the keyhola\n",
            "Enter the valueabhay\n",
            "Enter the keynamaskaram\n",
            "Enter the valueesha\n",
            "{'hai': 'ajay', 'hello': 'akshay', 'hola': 'abhay', 'namaskaram': 'esha'}\n"
          ],
          "name": "stdout"
        }
      ]
    },
    {
      "cell_type": "markdown",
      "metadata": {
        "id": "ENshyueNr79W"
      },
      "source": [
        "# **Cybrosys Test** "
      ]
    },
    {
      "cell_type": "code",
      "metadata": {
        "id": "yDwlqB3GsBAT"
      },
      "source": [
        "#Question 1\n",
        "lowerlimit = int(input(\"Enter the lowerlimit: \"))\n",
        "upperlimit = int(input(\"Enter the upperlimit: \"))\n",
        "if (lowerlimit%2 != 0):\n",
        "  lowerlimit = lowerlimit + 1;\n",
        "for i in range (lowerlimit, upperlimit):\n",
        "  print(i)\n",
        "  i = i +2"
      ],
      "execution_count": null,
      "outputs": []
    },
    {
      "cell_type": "code",
      "metadata": {
        "id": "58VbWHIzv8_y"
      },
      "source": [
        "#Question 3\n",
        "str = input(\"Enter the string\")\n",
        "new = str.split()\n",
        "for i in range(0,len(new)):\n",
        "  print(new[i])"
      ],
      "execution_count": null,
      "outputs": []
    },
    {
      "cell_type": "code",
      "metadata": {
        "id": "giVSnQh3w4Ho",
        "outputId": "867f48a1-18b9-4bcf-c970-a7d1a12605e1",
        "colab": {
          "base_uri": "https://localhost:8080/"
        }
      },
      "source": [
        "#Question 2\n",
        "j = 1000000\n",
        "arr = []\n",
        "while (j != 0):\n",
        "  i = 1\n",
        "  arr.clear()\n",
        "  while (i<j):\n",
        "    arr.append(i)\n",
        "    i = i * 10\n",
        "  for i in range(0, len(arr)):\n",
        "    print(arr[i], end = \" \")\n",
        "  print(\"\\n\")\n",
        "  j = j//10"
      ],
      "execution_count": null,
      "outputs": [
        {
          "output_type": "stream",
          "text": [
            "1 10 100 1000 10000 100000 \n",
            "\n",
            "1 10 100 1000 10000 \n",
            "\n",
            "1 10 100 1000 \n",
            "\n",
            "1 10 100 \n",
            "\n",
            "1 10 \n",
            "\n",
            "1 \n",
            "\n",
            "\n",
            "\n"
          ],
          "name": "stdout"
        }
      ]
    }
  ]
}